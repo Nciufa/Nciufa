{
  "nbformat": 4,
  "nbformat_minor": 0,
  "metadata": {
    "colab": {
      "provenance": []
    },
    "kernelspec": {
      "name": "python3",
      "display_name": "Python 3"
    },
    "language_info": {
      "name": "python"
    }
  },
  "cells": [
    {
      "cell_type": "markdown",
      "source": [
        "1.Crie um array com 4 linhas e 3 colunas com valores aleatórios."
      ],
      "metadata": {
        "id": "07XePITiYxAH"
      }
    },
    {
      "cell_type": "code",
      "source": [
        "import numpy as np"
      ],
      "metadata": {
        "id": "N63PpjLBZG7y"
      },
      "execution_count": 1,
      "outputs": []
    },
    {
      "cell_type": "code",
      "source": [
        "aleatorio=np.random.random((4,3))\n",
        "aleatorio"
      ],
      "metadata": {
        "colab": {
          "base_uri": "https://localhost:8080/"
        },
        "id": "nWVxdm0zYwwv",
        "outputId": "25bfd832-dd91-461a-92ef-dc2e012d953f"
      },
      "execution_count": 2,
      "outputs": [
        {
          "output_type": "execute_result",
          "data": {
            "text/plain": [
              "array([[0.45100699, 0.86055423, 0.17039989],\n",
              "       [0.37451525, 0.01906776, 0.84256179],\n",
              "       [0.53721606, 0.52548175, 0.48545176],\n",
              "       [0.53665421, 0.0332825 , 0.82892725]])"
            ]
          },
          "metadata": {},
          "execution_count": 2
        }
      ]
    },
    {
      "cell_type": "markdown",
      "source": [
        "2.Crie um array com valores inteiros,3 linhas e 5 colunas com valores aleatórios."
      ],
      "metadata": {
        "id": "0tjXu295aGgL"
      }
    },
    {
      "cell_type": "code",
      "source": [
        "inteiros=np.random.randint(100,size=(3,5))\n",
        "inteiros"
      ],
      "metadata": {
        "colab": {
          "base_uri": "https://localhost:8080/"
        },
        "id": "089CZgkkaQuy",
        "outputId": "f8122b08-a1a8-496d-e136-00d1940a0f2a"
      },
      "execution_count": 3,
      "outputs": [
        {
          "output_type": "execute_result",
          "data": {
            "text/plain": [
              "array([[ 4, 54, 91, 50, 50],\n",
              "       [35, 81, 85, 88, 57],\n",
              "       [44, 26, 17, 86, 76]])"
            ]
          },
          "metadata": {},
          "execution_count": 3
        }
      ]
    },
    {
      "cell_type": "markdown",
      "source": [
        "3.Crie um array com 5 colunas e 10 linhas inicializados com zeros."
      ],
      "metadata": {
        "id": "Cs5QwUguc_Ka"
      }
    },
    {
      "cell_type": "code",
      "source": [
        "zero=np.zeros((5,10))\n",
        "zero"
      ],
      "metadata": {
        "colab": {
          "base_uri": "https://localhost:8080/"
        },
        "id": "UOPtKjxOdJ4J",
        "outputId": "8ed6b41b-6cd7-4de2-807c-0d61862a4067"
      },
      "execution_count": 4,
      "outputs": [
        {
          "output_type": "execute_result",
          "data": {
            "text/plain": [
              "array([[0., 0., 0., 0., 0., 0., 0., 0., 0., 0.],\n",
              "       [0., 0., 0., 0., 0., 0., 0., 0., 0., 0.],\n",
              "       [0., 0., 0., 0., 0., 0., 0., 0., 0., 0.],\n",
              "       [0., 0., 0., 0., 0., 0., 0., 0., 0., 0.],\n",
              "       [0., 0., 0., 0., 0., 0., 0., 0., 0., 0.]])"
            ]
          },
          "metadata": {},
          "execution_count": 4
        }
      ]
    },
    {
      "cell_type": "markdown",
      "source": [
        "4.Crie um array que vá entre 0 e 90 pulando de 4 em 4."
      ],
      "metadata": {
        "id": "N-VYejThdXn5"
      }
    },
    {
      "cell_type": "code",
      "source": [
        "intervalo=np.arange(0,100,4)\n",
        "intervalo"
      ],
      "metadata": {
        "colab": {
          "base_uri": "https://localhost:8080/"
        },
        "id": "BjF0oh6IerH7",
        "outputId": "58d3a00d-5486-44b3-e0ad-4760b8ce1736"
      },
      "execution_count": 5,
      "outputs": [
        {
          "output_type": "execute_result",
          "data": {
            "text/plain": [
              "array([ 0,  4,  8, 12, 16, 20, 24, 28, 32, 36, 40, 44, 48, 52, 56, 60, 64,\n",
              "       68, 72, 76, 80, 84, 88, 92, 96])"
            ]
          },
          "metadata": {},
          "execution_count": 5
        }
      ]
    },
    {
      "cell_type": "markdown",
      "source": [
        "5.Reduza o array (5,7) a apenas uma dimensão."
      ],
      "metadata": {
        "id": "D0Ct0joOfLbN"
      }
    },
    {
      "cell_type": "code",
      "source": [
        "# criando um array de números aleatórios,com 5 linhas e 7 colunas\n",
        "reduzido=np.random.randint(100,size=(5,7))\n",
        "reduzido"
      ],
      "metadata": {
        "colab": {
          "base_uri": "https://localhost:8080/"
        },
        "id": "DQkxH6W3fLKI",
        "outputId": "7560527f-2c8a-498a-bb8e-0a6d7d12eeb3"
      },
      "execution_count": 6,
      "outputs": [
        {
          "output_type": "execute_result",
          "data": {
            "text/plain": [
              "array([[13, 68, 96, 91, 58, 60, 72],\n",
              "       [27, 56, 55, 30, 43, 91, 91],\n",
              "       [44, 18,  9, 39, 86, 28, 74],\n",
              "       [69, 35, 16, 24, 78, 50, 55],\n",
              "       [30, 76, 53, 13, 69, 72, 38]])"
            ]
          },
          "metadata": {},
          "execution_count": 6
        }
      ]
    },
    {
      "cell_type": "code",
      "source": [
        "# reduzindo o array a apenas uma dimensão\n",
        "reduce=reduzido.flatten()\n",
        "reduce"
      ],
      "metadata": {
        "colab": {
          "base_uri": "https://localhost:8080/"
        },
        "id": "nuJlR4cjgC80",
        "outputId": "ec0f64af-9a13-4b96-99b5-b22d0f697272"
      },
      "execution_count": 7,
      "outputs": [
        {
          "output_type": "execute_result",
          "data": {
            "text/plain": [
              "array([13, 68, 96, 91, 58, 60, 72, 27, 56, 55, 30, 43, 91, 91, 44, 18,  9,\n",
              "       39, 86, 28, 74, 69, 35, 16, 24, 78, 50, 55, 30, 76, 53, 13, 69, 72,\n",
              "       38])"
            ]
          },
          "metadata": {},
          "execution_count": 7
        }
      ]
    },
    {
      "cell_type": "markdown",
      "source": [
        "6.Considerando que você é uma organizadora de um jogo de bingo. Crie um array que irá representar a cartilha desses jogos de bingo. os números das suas cartelas variam entre 1 e 30, e você terá 10 participantes.Cada cartela terá 12 números (4,3). Crie um array que representa esse jogo."
      ],
      "metadata": {
        "id": "qE5e9TYghLxR"
      }
    },
    {
      "cell_type": "code",
      "source": [
        "bingo=np.random.randint(1,31,size=(4,3,10))\n",
        "bingo"
      ],
      "metadata": {
        "colab": {
          "base_uri": "https://localhost:8080/"
        },
        "id": "zGyzSDMfh0_z",
        "outputId": "8b0ea979-8281-4f1b-defa-27a9a94451c0"
      },
      "execution_count": 8,
      "outputs": [
        {
          "output_type": "execute_result",
          "data": {
            "text/plain": [
              "array([[[11,  8, 21,  7, 20, 14,  4, 29,  6, 23],\n",
              "        [25, 26,  5,  1, 18,  2, 26,  1,  2, 16],\n",
              "        [23, 26, 10, 29, 11,  1,  5, 28, 30,  1]],\n",
              "\n",
              "       [[29,  1, 12, 25, 18, 13, 26, 14, 15, 26],\n",
              "        [30, 11, 12,  4, 11,  3,  5, 10, 12, 10],\n",
              "        [28, 27, 21,  9,  2, 28, 23, 11, 11, 25]],\n",
              "\n",
              "       [[ 8,  2, 11, 14, 12,  5,  7, 30,  4,  4],\n",
              "        [24, 12, 27, 23, 30, 25, 30, 26, 28, 22],\n",
              "        [ 6, 24, 15, 18, 24, 13, 23,  2,  2, 20]],\n",
              "\n",
              "       [[20, 14,  7, 15,  7,  9, 12, 30, 27, 15],\n",
              "        [20,  8, 19,  9,  5, 17, 28, 10, 27, 18],\n",
              "        [21, 11, 29, 27, 17, 20,  2, 22, 12,  7]]])"
            ]
          },
          "metadata": {},
          "execution_count": 8
        }
      ]
    },
    {
      "cell_type": "markdown",
      "source": [
        "7.Faça o reshape das suas cartelas para que haja 5 cartelas de 4 linhas e 6 colunas."
      ],
      "metadata": {
        "id": "sGD6CKRljaWz"
      }
    },
    {
      "cell_type": "code",
      "source": [
        "resh=bingo.reshape((5,4,6))\n",
        "resh"
      ],
      "metadata": {
        "colab": {
          "base_uri": "https://localhost:8080/"
        },
        "id": "npXb61kSjr1z",
        "outputId": "1c73c278-c3d0-4a27-ca7b-e95e1c7613ca"
      },
      "execution_count": 9,
      "outputs": [
        {
          "output_type": "execute_result",
          "data": {
            "text/plain": [
              "array([[[11,  8, 21,  7, 20, 14],\n",
              "        [ 4, 29,  6, 23, 25, 26],\n",
              "        [ 5,  1, 18,  2, 26,  1],\n",
              "        [ 2, 16, 23, 26, 10, 29]],\n",
              "\n",
              "       [[11,  1,  5, 28, 30,  1],\n",
              "        [29,  1, 12, 25, 18, 13],\n",
              "        [26, 14, 15, 26, 30, 11],\n",
              "        [12,  4, 11,  3,  5, 10]],\n",
              "\n",
              "       [[12, 10, 28, 27, 21,  9],\n",
              "        [ 2, 28, 23, 11, 11, 25],\n",
              "        [ 8,  2, 11, 14, 12,  5],\n",
              "        [ 7, 30,  4,  4, 24, 12]],\n",
              "\n",
              "       [[27, 23, 30, 25, 30, 26],\n",
              "        [28, 22,  6, 24, 15, 18],\n",
              "        [24, 13, 23,  2,  2, 20],\n",
              "        [20, 14,  7, 15,  7,  9]],\n",
              "\n",
              "       [[12, 30, 27, 15, 20,  8],\n",
              "        [19,  9,  5, 17, 28, 10],\n",
              "        [27, 18, 21, 11, 29, 27],\n",
              "        [17, 20,  2, 22, 12,  7]]])"
            ]
          },
          "metadata": {},
          "execution_count": 9
        }
      ]
    },
    {
      "cell_type": "markdown",
      "source": [
        "**Manipulando Arrays**"
      ],
      "metadata": {
        "id": "rEMvxbXNkysz"
      }
    },
    {
      "cell_type": "markdown",
      "source": [
        "1.Explorando Ecossistemas: Como bióloga marinha, me encontrei em uma expedição nas profundezas do Oceano Pacífico, onde estávamos estudando a biodiversidade e a saúde dos recifes de coral. O catálogo abaixo demonstra dados das espécies encontradas, considere a seguinte ordem de colunas:\n",
        "\n",
        "**ID da espécie, quantidade de representantes encontrados, profundeza, tamanho médio da espécie.**\n",
        "\n"
      ],
      "metadata": {
        "id": "9ZDoN_VXlLer"
      }
    },
    {
      "cell_type": "code",
      "source": [
        "especies=np.array([[747,89,33,5],[623,123,32,13],[501,22,49,2],[116,101,42,10],[297,56,69,22],[613,64,27,7],[295,84,29,14],[692,105,72,16],[229,103,35,5],[374,124,70,1]])\n",
        "especies"
      ],
      "metadata": {
        "colab": {
          "base_uri": "https://localhost:8080/"
        },
        "id": "j05oGVywmRAN",
        "outputId": "a5a37216-4e38-4e84-c191-63e0e5b40f6a"
      },
      "execution_count": 10,
      "outputs": [
        {
          "output_type": "execute_result",
          "data": {
            "text/plain": [
              "array([[747,  89,  33,   5],\n",
              "       [623, 123,  32,  13],\n",
              "       [501,  22,  49,   2],\n",
              "       [116, 101,  42,  10],\n",
              "       [297,  56,  69,  22],\n",
              "       [613,  64,  27,   7],\n",
              "       [295,  84,  29,  14],\n",
              "       [692, 105,  72,  16],\n",
              "       [229, 103,  35,   5],\n",
              "       [374, 124,  70,   1]])"
            ]
          },
          "metadata": {},
          "execution_count": 10
        }
      ]
    },
    {
      "cell_type": "markdown",
      "source": [
        "a.Selecione a segunda coluna com a quantidade de espécies encontradas e adicione em um array as qtd_especies."
      ],
      "metadata": {
        "id": "rGiTxFXimXp6"
      }
    },
    {
      "cell_type": "code",
      "source": [
        "qtd_especies=especies[:,1]\n",
        "qtd_especies"
      ],
      "metadata": {
        "colab": {
          "base_uri": "https://localhost:8080/"
        },
        "id": "hlEk5jI5nJGK",
        "outputId": "baed6a4c-2ff4-4988-9c38-4ddd919dc7aa"
      },
      "execution_count": 11,
      "outputs": [
        {
          "output_type": "execute_result",
          "data": {
            "text/plain": [
              "array([ 89, 123,  22, 101,  56,  64,  84, 105, 103, 124])"
            ]
          },
          "metadata": {},
          "execution_count": 11
        }
      ]
    },
    {
      "cell_type": "markdown",
      "source": [
        "b.De qtd_especies selecione apenas as primeiras 3 quantidades e printe."
      ],
      "metadata": {
        "id": "c5vQBf3Qnq28"
      }
    },
    {
      "cell_type": "code",
      "source": [
        "print(qtd_especies[:3])"
      ],
      "metadata": {
        "colab": {
          "base_uri": "https://localhost:8080/"
        },
        "id": "fgpSTHMGn108",
        "outputId": "a9de3802-82ca-45d2-f28d-a1fad137cf5d"
      },
      "execution_count": 12,
      "outputs": [
        {
          "output_type": "stream",
          "name": "stdout",
          "text": [
            "[ 89 123  22]\n"
          ]
        }
      ]
    },
    {
      "cell_type": "markdown",
      "source": [
        "c.Printe as 5 últimas quantidades de espécies."
      ],
      "metadata": {
        "id": "ZFIJCgw4oSJ0"
      }
    },
    {
      "cell_type": "code",
      "source": [
        "print(qtd_especies[-5:])"
      ],
      "metadata": {
        "colab": {
          "base_uri": "https://localhost:8080/"
        },
        "id": "LZtqeGj7oeDy",
        "outputId": "44828dc7-3733-46c5-fd54-7983cc75f12e"
      },
      "execution_count": 13,
      "outputs": [
        {
          "output_type": "stream",
          "name": "stdout",
          "text": [
            "[ 64  84 105 103 124]\n"
          ]
        }
      ]
    },
    {
      "cell_type": "markdown",
      "source": [
        "d.Crie um array que contenha apenas os tamanhos das espécies e ordene por ordem crescente."
      ],
      "metadata": {
        "id": "ujP9dPRzpAaE"
      }
    },
    {
      "cell_type": "code",
      "source": [
        "crescente=np.sort(especies[:,3])\n",
        "crescente"
      ],
      "metadata": {
        "colab": {
          "base_uri": "https://localhost:8080/"
        },
        "id": "ggZhOjPwqLOp",
        "outputId": "7c56051c-bb45-4662-b080-824c168f7bf4"
      },
      "execution_count": 14,
      "outputs": [
        {
          "output_type": "execute_result",
          "data": {
            "text/plain": [
              "array([ 1,  2,  5,  5,  7, 10, 13, 14, 16, 22])"
            ]
          },
          "metadata": {},
          "execution_count": 14
        }
      ]
    },
    {
      "cell_type": "markdown",
      "source": [
        "2.Ainda usando o Array de espécies marítimas:\n",
        "\n",
        "a.Usando um index booleano crie um array que contém os dados da maior espécie encontrada (considerando o seu tamanho), esse valor corresponde ao valor 22.\n",
        "\n"
      ],
      "metadata": {
        "id": "oTGjLYmPsiTo"
      }
    },
    {
      "cell_type": "code",
      "source": [
        "# criando o index booleano que verifica entre todas as linhas, qual possui a última coluna, que corresponde ao tamano médio, com valor 22, que é o maior tamanho encontrado\n",
        "index=especies[:,3]==22\n",
        "index"
      ],
      "metadata": {
        "colab": {
          "base_uri": "https://localhost:8080/"
        },
        "id": "uys9CO_XskFm",
        "outputId": "1fe837ad-0984-41e6-9397-47e39653b400"
      },
      "execution_count": 15,
      "outputs": [
        {
          "output_type": "execute_result",
          "data": {
            "text/plain": [
              "array([False, False, False, False,  True, False, False, False, False,\n",
              "       False])"
            ]
          },
          "metadata": {},
          "execution_count": 15
        }
      ]
    },
    {
      "cell_type": "code",
      "source": [
        "# exibindo a linha que foi filtrada pelo index criado, mostrando todas as informações da espécie (onde linha =True)\n",
        "maior=especies[index]\n",
        "maior"
      ],
      "metadata": {
        "colab": {
          "base_uri": "https://localhost:8080/"
        },
        "id": "MvBRlvNXuGgu",
        "outputId": "7b36b50d-3e6f-42df-ce8e-b78895d5aadd"
      },
      "execution_count": 16,
      "outputs": [
        {
          "output_type": "execute_result",
          "data": {
            "text/plain": [
              "array([[297,  56,  69,  22]])"
            ]
          },
          "metadata": {},
          "execution_count": 16
        }
      ]
    },
    {
      "cell_type": "markdown",
      "source": [
        "b.Usando fancy index faça um array que contém apenas dados da espécie com ID 297."
      ],
      "metadata": {
        "id": "UjCBXIM5wPAv"
      }
    },
    {
      "cell_type": "code",
      "source": [
        "esp_297=especies[especies[:,0]==297]\n",
        "esp_297"
      ],
      "metadata": {
        "colab": {
          "base_uri": "https://localhost:8080/"
        },
        "id": "lHGHCeHuxWPq",
        "outputId": "d859e092-2b43-4c48-a5ac-cad6fafd9d1e"
      },
      "execution_count": 17,
      "outputs": [
        {
          "output_type": "execute_result",
          "data": {
            "text/plain": [
              "array([[297,  56,  69,  22]])"
            ]
          },
          "metadata": {},
          "execution_count": 17
        }
      ]
    },
    {
      "cell_type": "markdown",
      "source": [
        "c.Usando np.where() faça um array com a linha com dados correspondentes a espécie com 105 representantes encontrados."
      ],
      "metadata": {
        "id": "sfUSK0XHxp4E"
      }
    },
    {
      "cell_type": "code",
      "source": [
        "where=especies[np.where(especies[:,1]==105)]\n",
        "where"
      ],
      "metadata": {
        "colab": {
          "base_uri": "https://localhost:8080/"
        },
        "id": "wd-gYUBMx71G",
        "outputId": "cb431182-92b7-46ef-f145-82b9bdebaf20"
      },
      "execution_count": 18,
      "outputs": [
        {
          "output_type": "execute_result",
          "data": {
            "text/plain": [
              "array([[692, 105,  72,  16]])"
            ]
          },
          "metadata": {},
          "execution_count": 18
        }
      ]
    },
    {
      "cell_type": "markdown",
      "source": [
        "d.Considere a profundeza em que a espécie foi encontrada e substitua valores maiores que 60 com \"Profundo”\n"
      ],
      "metadata": {
        "id": "8kI7gqohByic"
      }
    },
    {
      "cell_type": "code",
      "source": [
        "profundeza=especies.copy()"
      ],
      "metadata": {
        "id": "aYH3ODmMPFmj"
      },
      "execution_count": 19,
      "outputs": []
    },
    {
      "cell_type": "code",
      "source": [
        "# transformando o array que era do tipo int em object, para que possa substituir um valor do tipo inteiro, por outro que é string\n",
        "profundeza = profundeza.astype(object)"
      ],
      "metadata": {
        "id": "8HN6IdBxMG_S"
      },
      "execution_count": 20,
      "outputs": []
    },
    {
      "cell_type": "code",
      "source": [
        "# fazendo a filtragem e a substituição, em todas as linhas da coluna de índice 2, onde houver valor maior q 60, será substituído por 'Profundo'\n",
        "profundeza[profundeza[:, 2] > 60, 2] = 'Profundo'"
      ],
      "metadata": {
        "id": "VECs3wg8MuKI"
      },
      "execution_count": 21,
      "outputs": []
    },
    {
      "cell_type": "code",
      "source": [
        "profundeza"
      ],
      "metadata": {
        "colab": {
          "base_uri": "https://localhost:8080/"
        },
        "id": "_F73u0BGMxwa",
        "outputId": "8b66e807-78fa-4818-c263-7ae2e697458d"
      },
      "execution_count": 22,
      "outputs": [
        {
          "output_type": "execute_result",
          "data": {
            "text/plain": [
              "array([[747, 89, 33, 5],\n",
              "       [623, 123, 32, 13],\n",
              "       [501, 22, 49, 2],\n",
              "       [116, 101, 42, 10],\n",
              "       [297, 56, 'Profundo', 22],\n",
              "       [613, 64, 27, 7],\n",
              "       [295, 84, 29, 14],\n",
              "       [692, 105, 'Profundo', 16],\n",
              "       [229, 103, 35, 5],\n",
              "       [374, 124, 'Profundo', 1]], dtype=object)"
            ]
          },
          "metadata": {},
          "execution_count": 22
        }
      ]
    },
    {
      "cell_type": "markdown",
      "source": [
        "3.Ainda no conjunto 'especies':\n",
        "\n",
        "a.Adicione mais 2 espécies ao array: [[204,10,40,12], [392,11,81,11]]."
      ],
      "metadata": {
        "id": "QLy8nxP8Pdhk"
      }
    },
    {
      "cell_type": "code",
      "source": [
        "# criando um array com as 2 espécies a serem adicionadas\n",
        "arr1=np.array([[204,10,40,12],[392,11,81,11]])\n",
        "arr1"
      ],
      "metadata": {
        "colab": {
          "base_uri": "https://localhost:8080/"
        },
        "id": "0oR_TkIoP3eg",
        "outputId": "16c64a12-d05f-4774-a757-87c567cd84e3"
      },
      "execution_count": 23,
      "outputs": [
        {
          "output_type": "execute_result",
          "data": {
            "text/plain": [
              "array([[204,  10,  40,  12],\n",
              "       [392,  11,  81,  11]])"
            ]
          },
          "metadata": {},
          "execution_count": 23
        }
      ]
    },
    {
      "cell_type": "code",
      "source": [
        "# concatenando os dois arrays pela axis 0, isto é, no eixo horizontal\n",
        "novas_especies = np.concatenate((especies,arr1), axis=0)\n",
        "novas_especies"
      ],
      "metadata": {
        "colab": {
          "base_uri": "https://localhost:8080/"
        },
        "id": "qC1Jr75LQSwM",
        "outputId": "8ef830c7-0829-4f1d-fccb-51d0fd3450b5"
      },
      "execution_count": 24,
      "outputs": [
        {
          "output_type": "execute_result",
          "data": {
            "text/plain": [
              "array([[747,  89,  33,   5],\n",
              "       [623, 123,  32,  13],\n",
              "       [501,  22,  49,   2],\n",
              "       [116, 101,  42,  10],\n",
              "       [297,  56,  69,  22],\n",
              "       [613,  64,  27,   7],\n",
              "       [295,  84,  29,  14],\n",
              "       [692, 105,  72,  16],\n",
              "       [229, 103,  35,   5],\n",
              "       [374, 124,  70,   1],\n",
              "       [204,  10,  40,  12],\n",
              "       [392,  11,  81,  11]])"
            ]
          },
          "metadata": {},
          "execution_count": 24
        }
      ]
    },
    {
      "cell_type": "markdown",
      "source": [
        "b.Adicione mais uma coluna no array original agora com o número de espécies encontradas com que indica se o animal enxerga ou não: [0,1,0,0,0,0,1,0,1,1,0]."
      ],
      "metadata": {
        "id": "0P93hrj-TNs5"
      }
    },
    {
      "cell_type": "code",
      "source": [
        "# criando um array\n",
        "arr2=np.array([0,1,0,0,0,0,1,0,1,1,0,1])"
      ],
      "metadata": {
        "id": "4ixB8Q3FTpdV"
      },
      "execution_count": 25,
      "outputs": []
    },
    {
      "cell_type": "code",
      "source": [
        "# transformando o array em uma coluna\n",
        "arr2=arr2.reshape(-1,1)"
      ],
      "metadata": {
        "id": "PPNENIoNUisO"
      },
      "execution_count": 26,
      "outputs": []
    },
    {
      "cell_type": "code",
      "source": [
        "# concatenando a nova coluna ao array novas_especies\n",
        "novo_atributo = np.concatenate((novas_especies,arr2), axis=1)\n",
        "novo_atributo"
      ],
      "metadata": {
        "colab": {
          "base_uri": "https://localhost:8080/"
        },
        "id": "2h6I6VY9T7xb",
        "outputId": "3586e74d-9a42-4d31-8717-42904d27dd13"
      },
      "execution_count": 27,
      "outputs": [
        {
          "output_type": "execute_result",
          "data": {
            "text/plain": [
              "array([[747,  89,  33,   5,   0],\n",
              "       [623, 123,  32,  13,   1],\n",
              "       [501,  22,  49,   2,   0],\n",
              "       [116, 101,  42,  10,   0],\n",
              "       [297,  56,  69,  22,   0],\n",
              "       [613,  64,  27,   7,   0],\n",
              "       [295,  84,  29,  14,   1],\n",
              "       [692, 105,  72,  16,   0],\n",
              "       [229, 103,  35,   5,   1],\n",
              "       [374, 124,  70,   1,   1],\n",
              "       [204,  10,  40,  12,   0],\n",
              "       [392,  11,  81,  11,   1]])"
            ]
          },
          "metadata": {},
          "execution_count": 27
        }
      ]
    },
    {
      "cell_type": "markdown",
      "source": [
        "### **Cálculo com Array**\n",
        "\n",
        "Considerando o array abaixo, responda:\n",
        "\n",
        "acidentes=np.array([[1,3,2],[0,1,0],[2,1,4],[0,0,0],[1,1,0]])"
      ],
      "metadata": {
        "id": "GG8IgIeUYL_p"
      }
    },
    {
      "cell_type": "code",
      "source": [
        "acidentes=np.array([[1,3,2],[0,1,0],[2,1,4],[0,0,0],[1,1,0]])\n",
        "acidentes"
      ],
      "metadata": {
        "colab": {
          "base_uri": "https://localhost:8080/"
        },
        "id": "BXb9Hm3LXohz",
        "outputId": "2efa2355-11df-49d8-e0ca-1ae3d86d3694"
      },
      "execution_count": 28,
      "outputs": [
        {
          "output_type": "execute_result",
          "data": {
            "text/plain": [
              "array([[1, 3, 2],\n",
              "       [0, 1, 0],\n",
              "       [2, 1, 4],\n",
              "       [0, 0, 0],\n",
              "       [1, 1, 0]])"
            ]
          },
          "metadata": {},
          "execution_count": 28
        }
      ]
    },
    {
      "cell_type": "markdown",
      "source": [
        "1.O cliente que teve acidente abaixo da média nos últimos 2 anos, ganhará um desconto no seu seguro. Identifique-os."
      ],
      "metadata": {
        "id": "YXQS0ZNzYlpG"
      }
    },
    {
      "cell_type": "code",
      "source": [
        "# selecionando as duas últimas colunas, considerando que representem os últimos dois anos\n",
        "colunas=acidentes[:,-2:]\n",
        "colunas"
      ],
      "metadata": {
        "colab": {
          "base_uri": "https://localhost:8080/"
        },
        "id": "XjOtH50SYwUB",
        "outputId": "dee2bdc9-6697-4c6c-d149-dd3982618a7a"
      },
      "execution_count": 29,
      "outputs": [
        {
          "output_type": "execute_result",
          "data": {
            "text/plain": [
              "array([[3, 2],\n",
              "       [1, 0],\n",
              "       [1, 4],\n",
              "       [0, 0],\n",
              "       [1, 0]])"
            ]
          },
          "metadata": {},
          "execution_count": 29
        }
      ]
    },
    {
      "cell_type": "code",
      "source": [
        "# calculando a média geral das duas colunas\n",
        "media=np.mean(colunas)\n",
        "media"
      ],
      "metadata": {
        "colab": {
          "base_uri": "https://localhost:8080/"
        },
        "id": "GPo3ODq9aQaN",
        "outputId": "4303626e-81e8-4dfa-bc77-bd443411c73d"
      },
      "execution_count": 30,
      "outputs": [
        {
          "output_type": "execute_result",
          "data": {
            "text/plain": [
              "1.2"
            ]
          },
          "metadata": {},
          "execution_count": 30
        }
      ]
    },
    {
      "cell_type": "code",
      "source": [
        "# fazendo a comparação usando o método all() para comparar se ambos os valores de colunas são menores que media\n",
        "clientes_com_desconto = (colunas < media).all(axis=1)\n",
        "clientes_com_desconto"
      ],
      "metadata": {
        "colab": {
          "base_uri": "https://localhost:8080/"
        },
        "id": "HGC7vGieacYv",
        "outputId": "50c5931a-666f-443e-8ecb-2f077c79583d"
      },
      "execution_count": 31,
      "outputs": [
        {
          "output_type": "execute_result",
          "data": {
            "text/plain": [
              "array([False,  True, False,  True,  True])"
            ]
          },
          "metadata": {},
          "execution_count": 31
        }
      ]
    },
    {
      "cell_type": "markdown",
      "source": [
        "2.Qual cliente teve pelo menos 2 anos sem cometer acidentes?"
      ],
      "metadata": {
        "id": "4nouGc87puuP"
      }
    },
    {
      "cell_type": "code",
      "source": [
        "# calculando quantos valores 0 tem cada linha\n",
        "somatoria_acidentes=(acidentes==0).sum(axis=1)\n",
        "somatoria_acidentes"
      ],
      "metadata": {
        "colab": {
          "base_uri": "https://localhost:8080/"
        },
        "id": "DvYcB4_CqFtM",
        "outputId": "f21283b8-d24a-4f01-8db5-e7fd10ba6118"
      },
      "execution_count": 32,
      "outputs": [
        {
          "output_type": "execute_result",
          "data": {
            "text/plain": [
              "array([0, 2, 0, 3, 1])"
            ]
          },
          "metadata": {},
          "execution_count": 32
        }
      ]
    },
    {
      "cell_type": "code",
      "source": [
        "# identificando quais das linhas possuem 2 ou mais zeros\n",
        "cliente_sem_acidente=somatoria_acidentes>=2\n",
        "cliente_sem_acidente"
      ],
      "metadata": {
        "colab": {
          "base_uri": "https://localhost:8080/"
        },
        "id": "asoalYHxrHQn",
        "outputId": "9e078652-c62a-4211-b7f0-60f03f58b609"
      },
      "execution_count": 33,
      "outputs": [
        {
          "output_type": "execute_result",
          "data": {
            "text/plain": [
              "array([False,  True, False,  True, False])"
            ]
          },
          "metadata": {},
          "execution_count": 33
        }
      ]
    },
    {
      "cell_type": "markdown",
      "source": [
        "3.Uma professora quer que seus alunos apliquem a função (3x+2y+x*y) em um conjunto de dados. Ela dá dois arrays aos estudantes e pede que seja feita essa operação."
      ],
      "metadata": {
        "id": "a98jI0YmszUF"
      }
    },
    {
      "cell_type": "code",
      "source": [
        "# criando o array que correspoderá aos valores de x\n",
        "x=np.random.randint(20,size=(3,4))\n",
        "x"
      ],
      "metadata": {
        "colab": {
          "base_uri": "https://localhost:8080/"
        },
        "id": "Vc4B6q3HtOqp",
        "outputId": "e93ed94f-bf43-46b7-f3fe-03d770954a4f"
      },
      "execution_count": 34,
      "outputs": [
        {
          "output_type": "execute_result",
          "data": {
            "text/plain": [
              "array([[ 2,  9,  5, 17],\n",
              "       [15, 16,  3, 13],\n",
              "       [14, 14, 11, 16]])"
            ]
          },
          "metadata": {},
          "execution_count": 34
        }
      ]
    },
    {
      "cell_type": "code",
      "source": [
        "# criando o array que corresponderá aos valores de y\n",
        "y=np.random.randint(30,size=(3,4))\n",
        "y"
      ],
      "metadata": {
        "colab": {
          "base_uri": "https://localhost:8080/"
        },
        "id": "RKwo-lmwtts9",
        "outputId": "d565b03a-2924-4d60-e90c-1a5037fd2fb3"
      },
      "execution_count": 35,
      "outputs": [
        {
          "output_type": "execute_result",
          "data": {
            "text/plain": [
              "array([[ 5,  0, 17,  2],\n",
              "       [ 1, 21,  6, 28],\n",
              "       [ 7, 12, 15,  1]])"
            ]
          },
          "metadata": {},
          "execution_count": 35
        }
      ]
    },
    {
      "cell_type": "code",
      "source": [
        "# calculando a fórmula\n",
        "calculo=3*x+2*y+x*y\n",
        "calculo"
      ],
      "metadata": {
        "colab": {
          "base_uri": "https://localhost:8080/"
        },
        "id": "uIAJyNp0uwwz",
        "outputId": "da56008f-bcfd-465a-8a49-c490e1c15f19"
      },
      "execution_count": 36,
      "outputs": [
        {
          "output_type": "execute_result",
          "data": {
            "text/plain": [
              "array([[ 26,  27, 134,  89],\n",
              "       [ 62, 426,  39, 459],\n",
              "       [154, 234, 228,  66]])"
            ]
          },
          "metadata": {},
          "execution_count": 36
        }
      ]
    },
    {
      "cell_type": "markdown",
      "source": [
        "4.A mesma professora percebeu que houve um erro em todas as provas dos estudantes e esqueceu de anotar a nota de trabalhos apresentados durante o semestre. Já que foi feito em grupo, ela vai adicionar a mesma nota para todos os estudantes. No array cada estudante representa uma linha e cada coluna uma prova. Adicione para cada prova de cada estudante os valores: 1,2,1."
      ],
      "metadata": {
        "id": "FLqm9Syev4gf"
      }
    },
    {
      "cell_type": "code",
      "source": [
        "# criando um array que corresponde às notas de provas dos 25 alunos\n",
        "provas=np.random.randint(10,size=(25,3))\n",
        "provas"
      ],
      "metadata": {
        "colab": {
          "base_uri": "https://localhost:8080/"
        },
        "id": "gv4RSh5ebzUe",
        "outputId": "9abd6ece-3646-490b-eda4-fe683ded11bc"
      },
      "execution_count": 37,
      "outputs": [
        {
          "output_type": "execute_result",
          "data": {
            "text/plain": [
              "array([[2, 8, 8],\n",
              "       [5, 8, 6],\n",
              "       [9, 7, 5],\n",
              "       [2, 8, 3],\n",
              "       [9, 6, 0],\n",
              "       [5, 3, 3],\n",
              "       [8, 6, 0],\n",
              "       [1, 0, 0],\n",
              "       [4, 7, 8],\n",
              "       [5, 6, 9],\n",
              "       [2, 1, 0],\n",
              "       [2, 7, 3],\n",
              "       [4, 1, 1],\n",
              "       [5, 3, 6],\n",
              "       [9, 8, 1],\n",
              "       [1, 7, 3],\n",
              "       [6, 1, 2],\n",
              "       [7, 3, 2],\n",
              "       [3, 9, 9],\n",
              "       [4, 0, 6],\n",
              "       [6, 7, 3],\n",
              "       [8, 9, 7],\n",
              "       [5, 8, 6],\n",
              "       [9, 7, 1],\n",
              "       [3, 9, 5]])"
            ]
          },
          "metadata": {},
          "execution_count": 37
        }
      ]
    },
    {
      "cell_type": "code",
      "source": [
        "# criando um array com as notas dos trabalhos\n",
        "trabalhos=np.array([1,2,1])\n",
        "trabalhos"
      ],
      "metadata": {
        "colab": {
          "base_uri": "https://localhost:8080/"
        },
        "id": "wuXGJLDncExQ",
        "outputId": "e3091399-4e3c-418c-9ad8-f1d49573589f"
      },
      "execution_count": 38,
      "outputs": [
        {
          "output_type": "execute_result",
          "data": {
            "text/plain": [
              "array([1, 2, 1])"
            ]
          },
          "metadata": {},
          "execution_count": 38
        }
      ]
    },
    {
      "cell_type": "code",
      "source": [
        "# fazendo o cálculo com os dois arrays\n",
        "nota_final=provas+trabalhos\n",
        "nota_final"
      ],
      "metadata": {
        "colab": {
          "base_uri": "https://localhost:8080/"
        },
        "id": "m-P4s733dj5Z",
        "outputId": "4f11ba7e-7b50-4f44-fce0-3ba4b3fd5d0f"
      },
      "execution_count": 39,
      "outputs": [
        {
          "output_type": "execute_result",
          "data": {
            "text/plain": [
              "array([[ 3, 10,  9],\n",
              "       [ 6, 10,  7],\n",
              "       [10,  9,  6],\n",
              "       [ 3, 10,  4],\n",
              "       [10,  8,  1],\n",
              "       [ 6,  5,  4],\n",
              "       [ 9,  8,  1],\n",
              "       [ 2,  2,  1],\n",
              "       [ 5,  9,  9],\n",
              "       [ 6,  8, 10],\n",
              "       [ 3,  3,  1],\n",
              "       [ 3,  9,  4],\n",
              "       [ 5,  3,  2],\n",
              "       [ 6,  5,  7],\n",
              "       [10, 10,  2],\n",
              "       [ 2,  9,  4],\n",
              "       [ 7,  3,  3],\n",
              "       [ 8,  5,  3],\n",
              "       [ 4, 11, 10],\n",
              "       [ 5,  2,  7],\n",
              "       [ 7,  9,  4],\n",
              "       [ 9, 11,  8],\n",
              "       [ 6, 10,  7],\n",
              "       [10,  9,  2],\n",
              "       [ 4, 11,  6]])"
            ]
          },
          "metadata": {},
          "execution_count": 39
        }
      ]
    }
  ]
}