{
  "nbformat": 4,
  "nbformat_minor": 0,
  "metadata": {
    "colab": {
      "provenance": []
    },
    "kernelspec": {
      "name": "python3",
      "display_name": "Python 3"
    },
    "language_info": {
      "name": "python"
    }
  },
  "cells": [
    {
      "cell_type": "markdown",
      "source": [
        "# **Exercício Bancos de Dados**"
      ],
      "metadata": {
        "id": "bQdqq_eyLXa6"
      }
    },
    {
      "cell_type": "markdown",
      "source": [
        "Criando banco de dados SQLite"
      ],
      "metadata": {
        "id": "tuaJXY-AwY-u"
      }
    },
    {
      "cell_type": "code",
      "source": [
        "%load_ext sql"
      ],
      "metadata": {
        "id": "mOw5snQapDnF"
      },
      "execution_count": 1,
      "outputs": []
    },
    {
      "cell_type": "code",
      "source": [
        "%%sql\n",
        "sqlite:///banco2.db"
      ],
      "metadata": {
        "id": "53J-w2ECsQ6-"
      },
      "execution_count": 2,
      "outputs": []
    },
    {
      "cell_type": "code",
      "source": [
        "import sqlite3\n",
        "import pandas as pd\n"
      ],
      "metadata": {
        "id": "whsX6Ll7s5zK"
      },
      "execution_count": 3,
      "outputs": []
    },
    {
      "cell_type": "markdown",
      "source": [
        "!apt-get install sqlite3"
      ],
      "metadata": {
        "id": "x1nKaKmq_88e"
      }
    },
    {
      "cell_type": "code",
      "source": [
        "conn = sqlite3.connect('/content/banco2.db')\n",
        "cursor = conn.cursor()"
      ],
      "metadata": {
        "id": "81W6h08yAHjq"
      },
      "execution_count": 4,
      "outputs": []
    },
    {
      "cell_type": "markdown",
      "source": [
        " **1.**Crie uma tabela chamada \"alunos\" com os seguintes campos: id\n",
        "(inteiro), nome (texto), idade (inteiro) e curso (texto).\n"
      ],
      "metadata": {
        "id": "VQJHs-cPLkPx"
      }
    },
    {
      "cell_type": "code",
      "source": [
        "cursor.execute('CREATE TABLE IF NOT EXISTS alunos (id INT, nome VARCHAR(100), idade INT, curso VARCHAR(50))')\n"
      ],
      "metadata": {
        "colab": {
          "base_uri": "https://localhost:8080/"
        },
        "id": "SPXYSqRzBUwx",
        "outputId": "59c03c55-8f51-4274-b217-efbeefd1774d"
      },
      "execution_count": 5,
      "outputs": [
        {
          "output_type": "execute_result",
          "data": {
            "text/plain": [
              "<sqlite3.Cursor at 0x79da28c7f740>"
            ]
          },
          "metadata": {},
          "execution_count": 5
        }
      ]
    },
    {
      "cell_type": "markdown",
      "source": [
        "2. Insira pelo menos 5 registros de alunos na tabela que você criou no\n",
        "exercício anterior.\n"
      ],
      "metadata": {
        "id": "ItTOKQAYLmQc"
      }
    },
    {
      "cell_type": "code",
      "source": [
        "cursor.execute('''INSERT INTO alunos (id,nome,idade,curso) VALUES\n",
        "(1,\"Mônica\",35,\"Ciências Biológicas\"),\n",
        "(2,\"Ricardo\",20,\"Administração\"),\n",
        "(3,\"Larissa\",27,\"Engenharia\"),\n",
        "(4,\"Letícia\",39,\"Engenharia\"),\n",
        "(5,\"Pedro\",23,\"Ciências Biológicas\"),\n",
        "(6,\"Leonardo\",30,\"Odontologia\"),\n",
        "(7,\"Andréia\",21,\"Engenharia\"),\n",
        "(8,\"João\",45,\"Análise e Desenvolvimento de Sistemas\"),\n",
        "(9,\"Fabrício\",27,\"Ciência da Computação\"),\n",
        "(10,\"Matheus\",32,\"Engenharia\")''')\n"
      ],
      "metadata": {
        "id": "Bxf6Y_AUFjsj",
        "colab": {
          "base_uri": "https://localhost:8080/"
        },
        "outputId": "0bf352db-18e3-4f76-8d58-5c832036a9c8"
      },
      "execution_count": 6,
      "outputs": [
        {
          "output_type": "execute_result",
          "data": {
            "text/plain": [
              "<sqlite3.Cursor at 0x79da28c7f740>"
            ]
          },
          "metadata": {},
          "execution_count": 6
        }
      ]
    },
    {
      "cell_type": "markdown",
      "source": [
        "3. Consultas Básicas\n",
        "Escreva consultas SQL para realizar as seguintes tarefas:\n"
      ],
      "metadata": {
        "id": "bdKdd3SBLsP7"
      }
    },
    {
      "cell_type": "markdown",
      "source": [
        "a) Selecionar todos os registros da tabela \"alunos\".\n",
        "\n"
      ],
      "metadata": {
        "id": "JKGGMIVpStRR"
      }
    },
    {
      "cell_type": "code",
      "source": [
        "dados=cursor.execute('SELECT * FROM alunos')\n",
        "for aluno in dados:\n",
        "  print(aluno)"
      ],
      "metadata": {
        "id": "KCW496hjLNJi",
        "colab": {
          "base_uri": "https://localhost:8080/"
        },
        "outputId": "f0dad671-f328-45fb-8090-d3a377f0485c"
      },
      "execution_count": 7,
      "outputs": [
        {
          "output_type": "stream",
          "name": "stdout",
          "text": [
            "(1, 'Mônica', 35, 'Ciências Biológicas')\n",
            "(2, 'Ricardo', 20, 'Administração')\n",
            "(3, 'Larissa', 27, 'Engenharia')\n",
            "(4, 'Letícia', 39, 'Engenharia')\n",
            "(5, 'Pedro', 23, 'Ciências Biológicas')\n",
            "(6, 'Leonardo', 30, 'Odontologia')\n",
            "(7, 'Andréia', 21, 'Engenharia')\n",
            "(8, 'João', 45, 'Análise e Desenvolvimento de Sistemas')\n",
            "(9, 'Fabrício', 27, 'Ciência da Computação')\n",
            "(10, 'Matheus', 32, 'Engenharia')\n"
          ]
        }
      ]
    },
    {
      "cell_type": "markdown",
      "source": [
        "b) Selecionar o nome e a idade dos alunos com mais de 20 anos."
      ],
      "metadata": {
        "id": "EClWeyb4iLBx"
      }
    },
    {
      "cell_type": "code",
      "source": [
        "maior_20=cursor.execute('SELECT nome,idade FROM alunos WHERE idade>20')\n",
        "for aluno in maior_20:\n",
        "  print(aluno)"
      ],
      "metadata": {
        "id": "kFTG6UYYiN50",
        "colab": {
          "base_uri": "https://localhost:8080/"
        },
        "outputId": "54c338ac-613b-436f-a776-59cf6851264a"
      },
      "execution_count": 8,
      "outputs": [
        {
          "output_type": "stream",
          "name": "stdout",
          "text": [
            "('Mônica', 35)\n",
            "('Larissa', 27)\n",
            "('Letícia', 39)\n",
            "('Pedro', 23)\n",
            "('Leonardo', 30)\n",
            "('Andréia', 21)\n",
            "('João', 45)\n",
            "('Fabrício', 27)\n",
            "('Matheus', 32)\n"
          ]
        }
      ]
    },
    {
      "cell_type": "markdown",
      "source": [
        "c) Selecionar os alunos do curso de \"Engenharia\" em ordem\n",
        "alfabética.\n"
      ],
      "metadata": {
        "id": "5o052v1Kj7vh"
      }
    },
    {
      "cell_type": "code",
      "source": [
        "dados2=cursor.execute('SELECT nome FROM alunos WHERE curso=\"Engenharia\" ORDER BY nome')\n",
        "for aluno in dados2:\n",
        "  print(aluno)\n"
      ],
      "metadata": {
        "id": "i7VPmrT3tjWH",
        "colab": {
          "base_uri": "https://localhost:8080/"
        },
        "outputId": "e819c1c3-2f25-4e22-b76c-23ebb31d3b47"
      },
      "execution_count": 9,
      "outputs": [
        {
          "output_type": "stream",
          "name": "stdout",
          "text": [
            "('Andréia',)\n",
            "('Larissa',)\n",
            "('Letícia',)\n",
            "('Matheus',)\n"
          ]
        }
      ]
    },
    {
      "cell_type": "markdown",
      "source": [
        "d) Contar o número total de alunos na tabela\n"
      ],
      "metadata": {
        "id": "QDwGb8EL2xnR"
      }
    },
    {
      "cell_type": "code",
      "source": [
        "quantidade=cursor.execute('SELECT COUNT(id) FROM alunos')\n",
        "for quant in quantidade:\n",
        "  print(quant[0])"
      ],
      "metadata": {
        "id": "eF3Yq_Y0wz3Y",
        "colab": {
          "base_uri": "https://localhost:8080/"
        },
        "outputId": "335efd19-a8d9-41d7-dd6b-7e16b2a9f667"
      },
      "execution_count": 10,
      "outputs": [
        {
          "output_type": "stream",
          "name": "stdout",
          "text": [
            "10\n"
          ]
        }
      ]
    },
    {
      "cell_type": "markdown",
      "source": [
        "4. Atualização e Remoção\n"
      ],
      "metadata": {
        "id": "x0EayA5Jyjwl"
      }
    },
    {
      "cell_type": "code",
      "source": [
        "cursor.execute('UPDATE alunos SET idade=28 WHERE nome=\"Pedro\"')\n",
        "idade_nova=cursor.execute('SELECT * FROM alunos')\n",
        "for idade in idade_nova:\n",
        "  print(idade)"
      ],
      "metadata": {
        "colab": {
          "base_uri": "https://localhost:8080/"
        },
        "id": "fjrQ_Aj8zA-e",
        "outputId": "734b83ce-b995-4483-f2d2-439064ea074a"
      },
      "execution_count": 11,
      "outputs": [
        {
          "output_type": "stream",
          "name": "stdout",
          "text": [
            "(1, 'Mônica', 35, 'Ciências Biológicas')\n",
            "(2, 'Ricardo', 20, 'Administração')\n",
            "(3, 'Larissa', 27, 'Engenharia')\n",
            "(4, 'Letícia', 39, 'Engenharia')\n",
            "(5, 'Pedro', 28, 'Ciências Biológicas')\n",
            "(6, 'Leonardo', 30, 'Odontologia')\n",
            "(7, 'Andréia', 21, 'Engenharia')\n",
            "(8, 'João', 45, 'Análise e Desenvolvimento de Sistemas')\n",
            "(9, 'Fabrício', 27, 'Ciência da Computação')\n",
            "(10, 'Matheus', 32, 'Engenharia')\n"
          ]
        }
      ]
    },
    {
      "cell_type": "markdown",
      "source": [
        "b) Remova um aluno pelo seu ID.\n"
      ],
      "metadata": {
        "id": "jRQBk71g0dTm"
      }
    },
    {
      "cell_type": "code",
      "source": [
        "cursor.execute('DELETE FROM alunos WHERE nome=\"Fabrício\"')\n",
        "aluno_deletado=cursor.execute('SELECT * FROM alunos')\n",
        "for deletado in aluno_deletado:\n",
        "  print(deletado)"
      ],
      "metadata": {
        "colab": {
          "base_uri": "https://localhost:8080/"
        },
        "id": "vP5hm-ND1MXO",
        "outputId": "49c4b610-8e3b-4b32-862b-8bd048c99e1d"
      },
      "execution_count": 12,
      "outputs": [
        {
          "output_type": "stream",
          "name": "stdout",
          "text": [
            "(1, 'Mônica', 35, 'Ciências Biológicas')\n",
            "(2, 'Ricardo', 20, 'Administração')\n",
            "(3, 'Larissa', 27, 'Engenharia')\n",
            "(4, 'Letícia', 39, 'Engenharia')\n",
            "(5, 'Pedro', 28, 'Ciências Biológicas')\n",
            "(6, 'Leonardo', 30, 'Odontologia')\n",
            "(7, 'Andréia', 21, 'Engenharia')\n",
            "(8, 'João', 45, 'Análise e Desenvolvimento de Sistemas')\n",
            "(10, 'Matheus', 32, 'Engenharia')\n"
          ]
        }
      ]
    },
    {
      "cell_type": "markdown",
      "source": [
        "5. Criar uma Tabela e Inserir Dados\n",
        "\n",
        "Crie uma tabela chamada \"clientes\" com os campos: id (chave\n",
        "primária), nome (texto), idade (inteiro) e saldo (float).\n",
        "\n",
        "Insira algunsregistros de clientes na tabela."
      ],
      "metadata": {
        "id": "r41WTzNe4Fgt"
      }
    },
    {
      "cell_type": "code",
      "source": [
        "cursor.execute('CREATE TABLE IF NOT EXISTS clientes(id INT NOT NULL, nome VARCHAR(100), idade INT, saldo FLOAT, PRIMARY KEY(id))')"
      ],
      "metadata": {
        "colab": {
          "base_uri": "https://localhost:8080/"
        },
        "id": "M9ca0eCR14_m",
        "outputId": "2ad67b08-9733-4deb-e4d1-d7645353cb29"
      },
      "execution_count": 13,
      "outputs": [
        {
          "output_type": "execute_result",
          "data": {
            "text/plain": [
              "<sqlite3.Cursor at 0x79da28c7f740>"
            ]
          },
          "metadata": {},
          "execution_count": 13
        }
      ]
    },
    {
      "cell_type": "code",
      "source": [
        "# inserindo registros na tabela criada\n",
        "cursor.execute('''INSERT INTO clientes(id,nome,idade,saldo) VALUES\n",
        "(1,\"Francisco Silva\", 47 , 1987.25),\n",
        "(2,\"Maria Eduarda Ferreira\",32 , 5200.27),\n",
        "(3,\"Leonardo Gomes\",49,150000.00),\n",
        "(4,\"Fernando Silva\",75,357000.68),\n",
        "(5,\"Gisele Alemida\",50,208654.33),\n",
        "(6,\"Oswaldo Guedes\",25,327419.64),\n",
        "(8,\"Isabela Ferreira de Andrade\",65,25239.16),\n",
        "(9,\"Fernanda Gonçalves\",32,747232.87),\n",
        "(10,\"Milton Oliveira\",81,2346635.17)''')"
      ],
      "metadata": {
        "colab": {
          "base_uri": "https://localhost:8080/"
        },
        "id": "e0yM6Sr10xtz",
        "outputId": "020945ac-ee0c-49fe-8a70-0ab011cd1e16"
      },
      "execution_count": 14,
      "outputs": [
        {
          "output_type": "execute_result",
          "data": {
            "text/plain": [
              "<sqlite3.Cursor at 0x79da28c7f740>"
            ]
          },
          "metadata": {},
          "execution_count": 14
        }
      ]
    },
    {
      "cell_type": "code",
      "source": [
        "# visualizando a tabela\n",
        "tabela_clientes=cursor.execute('SELECT * FROM clientes')\n",
        "for cliente_1 in tabela_clientes:\n",
        "  print(cliente_1)"
      ],
      "metadata": {
        "colab": {
          "base_uri": "https://localhost:8080/"
        },
        "id": "2mpmT-9fKqjL",
        "outputId": "8d21229a-6e2d-4942-c61a-d2b8021c1c7d"
      },
      "execution_count": 15,
      "outputs": [
        {
          "output_type": "stream",
          "name": "stdout",
          "text": [
            "(1, 'Francisco Silva', 47, 1987.25)\n",
            "(2, 'Maria Eduarda Ferreira', 32, 5200.27)\n",
            "(3, 'Leonardo Gomes', 49, 150000.0)\n",
            "(4, 'Fernando Silva', 75, 357000.68)\n",
            "(5, 'Gisele Alemida', 50, 208654.33)\n",
            "(6, 'Oswaldo Guedes', 25, 327419.64)\n",
            "(8, 'Isabela Ferreira de Andrade', 65, 25239.16)\n",
            "(9, 'Fernanda Gonçalves', 32, 747232.87)\n",
            "(10, 'Milton Oliveira', 81, 2346635.17)\n"
          ]
        }
      ]
    },
    {
      "cell_type": "markdown",
      "source": [
        "6. Consultas e Funções Agregadas\n",
        "\n",
        "Escreva consultas SQL para realizar as seguintes tarefas:\n",
        "\n",
        "a) Selecione o nome e a idade dos clientes com idade superior a\n",
        "30 anos."
      ],
      "metadata": {
        "id": "_p5J2lHEMoK1"
      }
    },
    {
      "cell_type": "code",
      "source": [
        "cliente_idade=cursor.execute('SELECT nome,idade FROM clientes WHERE idade>30 ')\n",
        "for nome in cliente_idade:\n",
        "  print(nome)"
      ],
      "metadata": {
        "colab": {
          "base_uri": "https://localhost:8080/"
        },
        "id": "sVryFY09MnR1",
        "outputId": "59459016-99b7-48ca-a0ce-321163d31230"
      },
      "execution_count": 16,
      "outputs": [
        {
          "output_type": "stream",
          "name": "stdout",
          "text": [
            "('Francisco Silva', 47)\n",
            "('Maria Eduarda Ferreira', 32)\n",
            "('Leonardo Gomes', 49)\n",
            "('Fernando Silva', 75)\n",
            "('Gisele Alemida', 50)\n",
            "('Isabela Ferreira de Andrade', 65)\n",
            "('Fernanda Gonçalves', 32)\n",
            "('Milton Oliveira', 81)\n"
          ]
        }
      ]
    },
    {
      "cell_type": "markdown",
      "source": [
        "b) Calcule o saldo médio dos clientes."
      ],
      "metadata": {
        "id": "XwrcGxEtPowD"
      }
    },
    {
      "cell_type": "code",
      "source": [
        "media_valores=cursor.execute('SELECT AVG(saldo) FROM clientes')\n",
        "for media_saldo in media_valores:\n",
        "  print(media_saldo[0])"
      ],
      "metadata": {
        "colab": {
          "base_uri": "https://localhost:8080/"
        },
        "id": "GEyvTjumPqpr",
        "outputId": "b189b404-fda8-4c99-a150-e7716d76ba4b"
      },
      "execution_count": 17,
      "outputs": [
        {
          "output_type": "stream",
          "name": "stdout",
          "text": [
            "463263.2633333333\n"
          ]
        }
      ]
    },
    {
      "cell_type": "markdown",
      "source": [
        "c) Encontre o cliente com o saldo máximo"
      ],
      "metadata": {
        "id": "NSzg0ekQRoow"
      }
    },
    {
      "cell_type": "code",
      "source": [
        "cursor.execute('SELECT nome,saldo FROM clientes WHERE saldo= (SELECT MAX(saldo) FROM clientes)')\n",
        "saldo_maior = cursor.fetchall()\n",
        "for saldo_maximo in saldo_maior:\n",
        "    print(f'Nome: {saldo_maximo[0]}, Saldo: {saldo_maximo[1]}')\n",
        "# for saldo_maximo in saldo_maior:\n",
        "  # print(saldo_maior[0])"
      ],
      "metadata": {
        "colab": {
          "base_uri": "https://localhost:8080/"
        },
        "id": "YKOxujkORoI_",
        "outputId": "02071692-c768-47db-bbe5-2d86786b09cc"
      },
      "execution_count": 18,
      "outputs": [
        {
          "output_type": "stream",
          "name": "stdout",
          "text": [
            "Nome: Milton Oliveira, Saldo: 2346635.17\n"
          ]
        }
      ]
    },
    {
      "cell_type": "markdown",
      "source": [
        "d) Conte quantos clientes têm saldo acima de 1000.\n"
      ],
      "metadata": {
        "id": "g8smcTzNL2Kp"
      }
    },
    {
      "cell_type": "code",
      "source": [
        "maior_de_mil=cursor.execute('SELECT COUNT(id) FROM clientes WHERE saldo>1000')\n",
        "for contagem in maior_de_mil:\n",
        "  print(contagem[0])"
      ],
      "metadata": {
        "colab": {
          "base_uri": "https://localhost:8080/"
        },
        "id": "FQAncDNaOvEy",
        "outputId": "3103a469-39f8-48e2-98cd-ce290dc5ce23"
      },
      "execution_count": 19,
      "outputs": [
        {
          "output_type": "stream",
          "name": "stdout",
          "text": [
            "9\n"
          ]
        }
      ]
    },
    {
      "cell_type": "markdown",
      "source": [
        "7. Atualização e Remoção com Condições\n",
        "\n",
        "a) Atualize o saldo de um cliente específico.\n"
      ],
      "metadata": {
        "id": "5Wk6ygzVWkUP"
      }
    },
    {
      "cell_type": "code",
      "source": [
        "cursor.execute('UPDATE clientes SET saldo=370000 WHERE id=10')\n",
        "saldo_novo=cursor.execute('SELECT * FROM clientes')\n",
        "for cliente in saldo_novo:\n",
        "  print(cliente)"
      ],
      "metadata": {
        "colab": {
          "base_uri": "https://localhost:8080/"
        },
        "id": "d9QCNysqW1Bg",
        "outputId": "20f7d9d4-a501-478e-861d-9200c317a58c"
      },
      "execution_count": 20,
      "outputs": [
        {
          "output_type": "stream",
          "name": "stdout",
          "text": [
            "(1, 'Francisco Silva', 47, 1987.25)\n",
            "(2, 'Maria Eduarda Ferreira', 32, 5200.27)\n",
            "(3, 'Leonardo Gomes', 49, 150000.0)\n",
            "(4, 'Fernando Silva', 75, 357000.68)\n",
            "(5, 'Gisele Alemida', 50, 208654.33)\n",
            "(6, 'Oswaldo Guedes', 25, 327419.64)\n",
            "(8, 'Isabela Ferreira de Andrade', 65, 25239.16)\n",
            "(9, 'Fernanda Gonçalves', 32, 747232.87)\n",
            "(10, 'Milton Oliveira', 81, 370000.0)\n"
          ]
        }
      ]
    },
    {
      "cell_type": "markdown",
      "source": [
        "b) Remova um cliente pelo seu ID.\n"
      ],
      "metadata": {
        "id": "BH1kojR_Yl0d"
      }
    },
    {
      "cell_type": "code",
      "source": [
        "remove_cliente=cursor.execute('DELETE FROM clientes WHERE id=5')\n",
        "deleta_cliente=cursor.execute('SELECT * FROM clientes')\n",
        "for removido in deleta_cliente:\n",
        "  print(removido)"
      ],
      "metadata": {
        "id": "XvmoEbNvYtFU",
        "colab": {
          "base_uri": "https://localhost:8080/"
        },
        "outputId": "feaed1e7-ffc5-4828-d141-125c73012782"
      },
      "execution_count": 21,
      "outputs": [
        {
          "output_type": "stream",
          "name": "stdout",
          "text": [
            "(1, 'Francisco Silva', 47, 1987.25)\n",
            "(2, 'Maria Eduarda Ferreira', 32, 5200.27)\n",
            "(3, 'Leonardo Gomes', 49, 150000.0)\n",
            "(4, 'Fernando Silva', 75, 357000.68)\n",
            "(6, 'Oswaldo Guedes', 25, 327419.64)\n",
            "(8, 'Isabela Ferreira de Andrade', 65, 25239.16)\n",
            "(9, 'Fernanda Gonçalves', 32, 747232.87)\n",
            "(10, 'Milton Oliveira', 81, 370000.0)\n"
          ]
        }
      ]
    },
    {
      "cell_type": "markdown",
      "source": [
        "8. Junção de Tabelas\n",
        "\n",
        "Crie uma segunda tabela chamada \"compras\" com os campos: id\n",
        "(chave primária), cliente_id (chave estrangeira referenciando o id\n",
        "da tabela \"clientes\"), produto (texto) e valor (real).\n",
        "\n",
        "Insira algumas compras associadas a clientes existentes na tabela \"clientes\".\n",
        "\n",
        "Escreva uma consulta para exibir o nome do cliente, o produto e o\n",
        "valor de cada compra."
      ],
      "metadata": {
        "id": "ffy3WRlfhOCq"
      }
    },
    {
      "cell_type": "code",
      "source": [
        "# criando tabela\n",
        "cursor.execute('CREATE TABLE IF NOT EXISTS compras(id INT PRIMARY KEY, cliente_id INT, produto VARCHAR(100), valor REAL,FOREIGN KEY (cliente_id) REFERENCES clientes (id) )')"
      ],
      "metadata": {
        "colab": {
          "base_uri": "https://localhost:8080/"
        },
        "id": "QZaU1-pAhYq-",
        "outputId": "4a02e64b-4899-4d98-8be4-f2be4b24f95b"
      },
      "execution_count": null,
      "outputs": [
        {
          "output_type": "execute_result",
          "data": {
            "text/plain": [
              "<sqlite3.Cursor at 0x7a7b00568e40>"
            ]
          },
          "metadata": {},
          "execution_count": 25
        }
      ]
    },
    {
      "cell_type": "code",
      "source": [
        "# inserindo registros associados à clientes da tabela CLIENTES\n",
        "cursor.execute('''INSERT INTO compras(id,cliente_id,produto,valor) VALUES\n",
        "(2001,1,\"Banana\",17.50),\n",
        "(2005,2,\"Uva\",25.00),\n",
        "(2006,3,\"Ovos\",13.00),\n",
        "(2007,1,\"Leite condensado\",11.00),\n",
        "(2008,4,\"Milho de pipoca\",9.00),\n",
        "(2011,6,\"Abóboras\",7.50),\n",
        "(2012,9,\"Massa para lasanha\",12.50),\n",
        "(2015,10,\"Feijão preto\",9.25),\n",
        "(2016,10,\"Couve Manteiga\",7.00),\n",
        "(2020,10,\"Farofa pronta\",13.70)\n",
        "''')"
      ],
      "metadata": {
        "colab": {
          "base_uri": "https://localhost:8080/"
        },
        "id": "MXjimFKCj_a5",
        "outputId": "c1eddd51-4f67-481a-f540-8f0dc3024d83"
      },
      "execution_count": null,
      "outputs": [
        {
          "output_type": "execute_result",
          "data": {
            "text/plain": [
              "<sqlite3.Cursor at 0x7eae73a77c40>"
            ]
          },
          "metadata": {},
          "execution_count": 87
        }
      ]
    },
    {
      "cell_type": "code",
      "source": [
        "# visualizando a tabela\n",
        "compras_tab=cursor.execute('SELECT * FROM compras')\n",
        "for item_comprado in compras_tab:\n",
        "  print(item_comprado)"
      ],
      "metadata": {
        "colab": {
          "base_uri": "https://localhost:8080/"
        },
        "id": "JxtpZ1AWoM1S",
        "outputId": "ba655226-0bc3-421b-cf2e-cb2cfe1099a6"
      },
      "execution_count": null,
      "outputs": [
        {
          "output_type": "stream",
          "name": "stdout",
          "text": [
            "(2001, 1, 'Banana', 17.5)\n",
            "(2005, 2, 'Uva', 25.0)\n",
            "(2006, 3, 'Ovos', 13.0)\n",
            "(2007, 1, 'Leite condensado', 11.0)\n",
            "(2008, 4, 'Milho de pipoca', 9.0)\n",
            "(2011, 6, 'Abóboras', 7.5)\n",
            "(2012, 9, 'Massa para lasanha', 12.5)\n",
            "(2015, 10, 'Feijão preto', 9.25)\n",
            "(2016, 10, 'Couve Manteiga', 7.0)\n",
            "(2020, 10, 'Farofa pronta', 13.7)\n"
          ]
        }
      ]
    },
    {
      "cell_type": "code",
      "source": [
        "# exibindo o ID da compra, nome do cliente, produto comprado e valor da compra.\n",
        "cliente_compra=cursor.execute('SELECT co.id,c.nome, co.produto, co.valor FROM compras co JOIN clientes c ON co.cliente_id = c.id;')\n",
        "for compra_realizada in cliente_compra:\n",
        "  print(compra_realizada)"
      ],
      "metadata": {
        "colab": {
          "base_uri": "https://localhost:8080/"
        },
        "id": "_O1DNlqcpJJE",
        "outputId": "ce1dda57-cd42-476a-d700-8e0c6604b40b"
      },
      "execution_count": null,
      "outputs": [
        {
          "output_type": "stream",
          "name": "stdout",
          "text": [
            "(2001, 'Francisco Silva', 'Banana', 17.5)\n",
            "(2005, 'Maria Eduarda Ferreira', 'Uva', 25.0)\n",
            "(2006, 'Leonardo Dicaprio', 'Ovos', 13.0)\n",
            "(2007, 'Francisco Silva', 'Leite condensado', 11.0)\n",
            "(2008, 'Ozzy Osbourne', 'Milho de pipoca', 9.0)\n",
            "(2011, 'Harry Potter', 'Abóboras', 7.5)\n",
            "(2012, 'Fernanda Montenegro', 'Massa para lasanha', 12.5)\n",
            "(2015, 'Milton Nascimento', 'Feijão preto', 9.25)\n",
            "(2016, 'Milton Nascimento', 'Couve Manteiga', 7.0)\n",
            "(2020, 'Milton Nascimento', 'Farofa pronta', 13.7)\n"
          ]
        }
      ]
    },
    {
      "cell_type": "code",
      "source": [
        "conn.commit()"
      ],
      "metadata": {
        "id": "vffM5t2WAq0A"
      },
      "execution_count": 22,
      "outputs": []
    },
    {
      "cell_type": "code",
      "source": [
        "conn.close()"
      ],
      "metadata": {
        "id": "BcR7y_o_BLGj"
      },
      "execution_count": 23,
      "outputs": []
    }
  ]
}